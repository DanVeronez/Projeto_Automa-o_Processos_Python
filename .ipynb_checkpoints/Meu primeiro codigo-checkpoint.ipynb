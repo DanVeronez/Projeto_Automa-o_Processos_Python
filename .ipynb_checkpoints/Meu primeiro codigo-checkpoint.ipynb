{
 "cells": [
  {
   "cell_type": "markdown",
   "id": "6edaabe4",
   "metadata": {},
   "source": [
    "# Primeiros programas com Python"
   ]
  },
  {
   "cell_type": "code",
   "execution_count": 6,
   "id": "88c8defb",
   "metadata": {},
   "outputs": [],
   "source": [
    "import pyautogui\n",
    "import pyperclip"
   ]
  },
  {
   "cell_type": "markdown",
   "id": "a54c9078",
   "metadata": {},
   "source": [
    "### Deixa um delay de 1 seg a cada linha de execução"
   ]
  },
  {
   "cell_type": "code",
   "execution_count": 7,
   "id": "0adc1bd4",
   "metadata": {},
   "outputs": [],
   "source": [
    "pyautogui.PAUSE = 1"
   ]
  },
  {
   "cell_type": "markdown",
   "id": "a46e0ecf",
   "metadata": {},
   "source": [
    "### hotkey: atalhos\n",
    "\n",
    "### Abre uma nova guia a abre o link do \"Servidor\" no caso o google drive para ter acesso a planilha"
   ]
  },
  {
   "cell_type": "code",
   "execution_count": 47,
   "id": "8a383adc",
   "metadata": {},
   "outputs": [],
   "source": [
    "pyautogui.hotkey(\"ctrl\",\"t\")\n",
    "link = pyperclip.copy(\"https://drive.google.com/drive/folders/149xknr9JvrlEnhNWO49zPcw0PW5icxga\")\n",
    "pyautogui.hotkey(\"ctrl\",\"v\")\n",
    "pyautogui.press(\"enter\")\n",
    "\n",
    "time.sleep(1)\n",
    "pyautogui.click(x=391, y=355, clicks=2)\n",
    "time.sleep(1)\n",
    "pyautogui.click(x=391, y=355)\n",
    "\n",
    "pyautogui.click(x=1715, y=186)\n",
    "\n",
    "pyautogui.click(x=1456, y=598)\n"
   ]
  },
  {
   "cell_type": "code",
   "execution_count": null,
   "id": "7dcc464a",
   "metadata": {},
   "outputs": [],
   "source": []
  },
  {
   "cell_type": "markdown",
   "id": "37343d18",
   "metadata": {},
   "source": [
    "### Comando para descobrir a prosição do Mouse"
   ]
  },
  {
   "cell_type": "code",
   "execution_count": 37,
   "id": "59258a6e",
   "metadata": {},
   "outputs": [
    {
     "data": {
      "text/plain": [
       "Point(x=1456, y=598)"
      ]
     },
     "execution_count": 37,
     "metadata": {},
     "output_type": "execute_result"
    }
   ],
   "source": [
    "import time\n",
    "time.sleep(4)\n",
    "pyautogui.position()\n"
   ]
  },
  {
   "cell_type": "code",
   "execution_count": null,
   "id": "748adfea",
   "metadata": {},
   "outputs": [],
   "source": []
  }
 ],
 "metadata": {
  "kernelspec": {
   "display_name": "Python 3",
   "language": "python",
   "name": "python3"
  },
  "language_info": {
   "codemirror_mode": {
    "name": "ipython",
    "version": 3
   },
   "file_extension": ".py",
   "mimetype": "text/x-python",
   "name": "python",
   "nbconvert_exporter": "python",
   "pygments_lexer": "ipython3",
   "version": "3.8.8"
  }
 },
 "nbformat": 4,
 "nbformat_minor": 5
}
